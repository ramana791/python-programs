{
  "nbformat": 4,
  "nbformat_minor": 0,
  "metadata": {
    "colab": {
      "provenance": []
    },
    "kernelspec": {
      "name": "python3",
      "display_name": "Python 3"
    },
    "language_info": {
      "name": "python"
    }
  },
  "cells": [
    {
      "cell_type": "markdown",
      "source": [
        "simple calculator"
      ],
      "metadata": {
        "id": "8djTx5KESSpa"
      }
    },
    {
      "cell_type": "code",
      "source": [
        "def add(x,y):\n",
        "      return x+y\n",
        "def subtract(x,y):\n",
        "       return x-y\n",
        "def multiply(x,y):\n",
        "       return x*y\n",
        "def divide(x,y):\n",
        "  if y !=0:\n",
        "    return x/y\n",
        "  else:\n",
        "    return \"error! division by zero.\"\n",
        "print(\"1.addition\")\n",
        "print(\"2.subtraction\")\n",
        "print(\"3.multiplication\")\n",
        "print(\"4.division\")\n",
        "while True:\n",
        "  choice = input(\"enter choice (1/2/3/4):\")\n",
        "  if choice in['1','2','3','4']:\n",
        "    num1 = float(input(\"enter first number:\"))\n",
        "    num2 = float(input(\"enter second number:\"))\n",
        "  if choice == '1':\n",
        "     print(\"the result is :\",add(num1,num2))\n",
        "  elif choice =='2':\n",
        "     print(\"the result is :\",subtract(num1,num2))\n",
        "  elif choice =='3':\n",
        "      print(\"the result is:\",multiply(num1,num2))\n",
        "  elif choice == '4':\n",
        "      print(\"the result is :\",divide(num1,num2))\n",
        "  next_calculation = input(\"do you want to perfore another calculation (yes/no):\")\n",
        "  if next_calculation.lower()=='no':\n",
        "                       break\n",
        "else:\n",
        "                       print(\"invalid input\")\n",
        "\n",
        "\n"
      ],
      "metadata": {
        "colab": {
          "base_uri": "https://localhost:8080/"
        },
        "id": "Npe8S9giUbox",
        "outputId": "2aef4615-adef-45f3-a505-24b49df9b0fb"
      },
      "execution_count": 36,
      "outputs": [
        {
          "name": "stdout",
          "output_type": "stream",
          "text": [
            "1.addition\n",
            "2.subtraction\n",
            "3.multiplication\n",
            "4.division\n",
            "enter choice (1/2/3/4):1\n",
            "enter first number:10\n",
            "enter second number:10\n",
            "the result is : 20.0\n",
            "do you want to perfore another calculation (yes/no):yes\n",
            "enter choice (1/2/3/4):no\n",
            "do you want to perfore another calculation (yes/no):no\n"
          ]
        }
      ]
    },
    {
      "cell_type": "code",
      "source": [],
      "metadata": {
        "id": "isXsBMFcVcCt"
      },
      "execution_count": null,
      "outputs": []
    }
  ]
}